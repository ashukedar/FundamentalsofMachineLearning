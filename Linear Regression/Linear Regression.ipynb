{
 "cells": [
  {
   "cell_type": "code",
   "execution_count": 1,
   "id": "2e93c1c2",
   "metadata": {},
   "outputs": [
    {
     "data": {
      "text/html": [
       "<div>\n",
       "<style scoped>\n",
       "    .dataframe tbody tr th:only-of-type {\n",
       "        vertical-align: middle;\n",
       "    }\n",
       "\n",
       "    .dataframe tbody tr th {\n",
       "        vertical-align: top;\n",
       "    }\n",
       "\n",
       "    .dataframe thead th {\n",
       "        text-align: right;\n",
       "    }\n",
       "</style>\n",
       "<table border=\"1\" class=\"dataframe\">\n",
       "  <thead>\n",
       "    <tr style=\"text-align: right;\">\n",
       "      <th></th>\n",
       "      <th>x1</th>\n",
       "      <th>y</th>\n",
       "    </tr>\n",
       "  </thead>\n",
       "  <tbody>\n",
       "    <tr>\n",
       "      <th>0</th>\n",
       "      <td>2600</td>\n",
       "      <td>550000</td>\n",
       "    </tr>\n",
       "    <tr>\n",
       "      <th>1</th>\n",
       "      <td>3000</td>\n",
       "      <td>565000</td>\n",
       "    </tr>\n",
       "    <tr>\n",
       "      <th>2</th>\n",
       "      <td>3200</td>\n",
       "      <td>610000</td>\n",
       "    </tr>\n",
       "    <tr>\n",
       "      <th>3</th>\n",
       "      <td>3600</td>\n",
       "      <td>680000</td>\n",
       "    </tr>\n",
       "    <tr>\n",
       "      <th>4</th>\n",
       "      <td>4000</td>\n",
       "      <td>725000</td>\n",
       "    </tr>\n",
       "    <tr>\n",
       "      <th>5</th>\n",
       "      <td>4300</td>\n",
       "      <td>756000</td>\n",
       "    </tr>\n",
       "    <tr>\n",
       "      <th>6</th>\n",
       "      <td>4500</td>\n",
       "      <td>768000</td>\n",
       "    </tr>\n",
       "  </tbody>\n",
       "</table>\n",
       "</div>"
      ],
      "text/plain": [
       "     x1       y\n",
       "0  2600  550000\n",
       "1  3000  565000\n",
       "2  3200  610000\n",
       "3  3600  680000\n",
       "4  4000  725000\n",
       "5  4300  756000\n",
       "6  4500  768000"
      ]
     },
     "execution_count": 1,
     "metadata": {},
     "output_type": "execute_result"
    }
   ],
   "source": [
    "import numpy as np;\n",
    "import pandas as pd;\n",
    "from matplotlib import pyplot as plt;\n",
    "\n",
    "df = pd.read_csv(r\"C:\\Users\\Raider\\Downloads\\Book.csv\");\n",
    "df"
   ]
  },
  {
   "cell_type": "code",
   "execution_count": 2,
   "id": "aafc1acc",
   "metadata": {},
   "outputs": [
    {
     "data": {
      "text/plain": [
       "Text(0, 0.5, 'price')"
      ]
     },
     "execution_count": 2,
     "metadata": {},
     "output_type": "execute_result"
    },
    {
     "data": {
      "image/png": "[encoded data removed]",
      "text/plain": [
       "<Figure size 432x288 with 1 Axes>"
      ]
     },
     "metadata": {
      "needs_background": "light"
     },
     "output_type": "display_data"
    }
   ],
   "source": [
    "x = df[['x1']]\n",
    "y = df[['y']]\n",
    "plt.scatter(x,y)\n",
    "plt.xlabel('area')\n",
    "plt.ylabel('price')"
   ]
  },
  {
   "cell_type": "code",
   "execution_count": 3,
   "id": "fae0619c",
   "metadata": {},
   "outputs": [
    {
     "name": "stdout",
     "output_type": "stream",
     "text": [
      "Intercept:  [208937.67976989]\n",
      "Coefficient:  [[126.6442953]]\n",
      "Predicted Values:  [[538212.84755513]\n",
      " [588870.56567593]\n",
      " [614199.42473634]\n",
      " [664857.14285714]\n",
      " [715514.86097795]\n",
      " [753508.14956855]\n",
      " [778837.00862895]]\n"
     ]
    }
   ],
   "source": [
    "from sklearn.linear_model import LinearRegression\n",
    "\n",
    "regressor = LinearRegression();\n",
    "regressor.fit(x,y)\n",
    "y_p = regressor.predict(x)\n",
    "print('Intercept: ', regressor.intercept_)\n",
    "print('Coefficient: ', regressor.coef_)\n",
    "print('Predicted Values: ', y_p)"
   ]
  },
  {
   "cell_type": "code",
   "execution_count": 4,
   "id": "2395ee7d",
   "metadata": {},
   "outputs": [
    {
     "data": {
      "text/plain": [
       "Text(0, 0.5, 'price')"
      ]
     },
     "execution_count": 4,
     "metadata": {},
     "output_type": "execute_result"
    },
    {
     "data": {
      "image/png": "[encoded data removed]",
      "text/plain": [
       "<Figure size 432x288 with 1 Axes>"
      ]
     },
     "metadata": {
      "needs_background": "light"
     },
     "output_type": "display_data"
    }
   ],
   "source": [
    "plt.plot(x,y_p, color='g')\n",
    "plt.scatter(x,y)\n",
    "plt.xlabel('area')\n",
    "plt.ylabel('price')"
   ]
  },
  {
   "cell_type": "code",
   "execution_count": 5,
   "id": "ac831b85",
   "metadata": {},
   "outputs": [
    {
     "name": "stdout",
     "output_type": "stream",
     "text": [
      "Intercept:  [194842.85714286]\n",
      "Coefficient:  [[131.53061224]]\n",
      "Predicted Values:  [[786730.6122449 ]\n",
      " [615740.81632653]]\n"
     ]
    }
   ],
   "source": [
    "from sklearn.model_selection import train_test_split\n",
    "x_train, x_test, y_train, y_test = train_test_split(x, y, test_size = 0.3, random_state = 0)\n",
    "regressor.fit(x_train, y_train)\n",
    "y_pred = regressor.predict(x_test)\n",
    "print('Intercept: ', regressor.intercept_)\n",
    "print('Coefficient: ', regressor.coef_)\n",
    "print('Predicted Values: ', y_pred)"
   ]
  },
  {
   "cell_type": "code",
   "execution_count": 6,
   "id": "654ad780",
   "metadata": {},
   "outputs": [
    {
     "name": "stdout",
     "output_type": "stream",
     "text": [
      "Mean Absolute Error:  12235.714285714319\n",
      "Mean Squared Error:  191896403.58184165\n",
      "Root Mean Squared Error:  13852.667742418485\n",
      "R2 score:  0.9692522987370867\n"
     ]
    }
   ],
   "source": [
    "from sklearn import metrics\n",
    "from sklearn.metrics import r2_score\n",
    "\n",
    "print('Mean Absolute Error: ', metrics.mean_absolute_error(y_test, y_pred))\n",
    "print('Mean Squared Error: ', metrics.mean_squared_error(y_test, y_pred))\n",
    "print('Root Mean Squared Error: ', np.sqrt(metrics.mean_squared_error(y_test, y_pred)))\n",
    "print('R2 score: ', r2_score(y_test, y_pred))"
   ]
  },
  {
   "cell_type": "code",
   "execution_count": 7,
   "id": "bd346d9b",
   "metadata": {},
   "outputs": [
    {
     "data": {
      "text/html": [
       "<div>\n",
       "<style scoped>\n",
       "    .dataframe tbody tr th:only-of-type {\n",
       "        vertical-align: middle;\n",
       "    }\n",
       "\n",
       "    .dataframe tbody tr th {\n",
       "        vertical-align: top;\n",
       "    }\n",
       "\n",
       "    .dataframe thead th {\n",
       "        text-align: right;\n",
       "    }\n",
       "</style>\n",
       "<table border=\"1\" class=\"dataframe\">\n",
       "  <thead>\n",
       "    <tr style=\"text-align: right;\">\n",
       "      <th></th>\n",
       "      <th>area</th>\n",
       "      <th>bedroom</th>\n",
       "      <th>age</th>\n",
       "      <th>price</th>\n",
       "    </tr>\n",
       "  </thead>\n",
       "  <tbody>\n",
       "    <tr>\n",
       "      <th>0</th>\n",
       "      <td>2600</td>\n",
       "      <td>3</td>\n",
       "      <td>20</td>\n",
       "      <td>550000</td>\n",
       "    </tr>\n",
       "    <tr>\n",
       "      <th>1</th>\n",
       "      <td>3000</td>\n",
       "      <td>4</td>\n",
       "      <td>15</td>\n",
       "      <td>565000</td>\n",
       "    </tr>\n",
       "    <tr>\n",
       "      <th>2</th>\n",
       "      <td>3200</td>\n",
       "      <td>3</td>\n",
       "      <td>18</td>\n",
       "      <td>610000</td>\n",
       "    </tr>\n",
       "    <tr>\n",
       "      <th>3</th>\n",
       "      <td>3600</td>\n",
       "      <td>3</td>\n",
       "      <td>30</td>\n",
       "      <td>595000</td>\n",
       "    </tr>\n",
       "    <tr>\n",
       "      <th>4</th>\n",
       "      <td>4000</td>\n",
       "      <td>5</td>\n",
       "      <td>8</td>\n",
       "      <td>760000</td>\n",
       "    </tr>\n",
       "  </tbody>\n",
       "</table>\n",
       "</div>"
      ],
      "text/plain": [
       "   area  bedroom  age   price\n",
       "0  2600        3   20  550000\n",
       "1  3000        4   15  565000\n",
       "2  3200        3   18  610000\n",
       "3  3600        3   30  595000\n",
       "4  4000        5    8  760000"
      ]
     },
     "execution_count": 7,
     "metadata": {},
     "output_type": "execute_result"
    }
   ],
   "source": [
    "df = pd.read_csv(r\"C:\\Users\\Raider\\Downloads\\Data2.csv\");\n",
    "df"
   ]
  },
  {
   "cell_type": "code",
   "execution_count": 8,
   "id": "59e0d2ee",
   "metadata": {},
   "outputs": [
    {
     "data": {
      "text/plain": [
       "array([[<AxesSubplot:xlabel='area', ylabel='area'>,\n",
       "        <AxesSubplot:xlabel='bedroom', ylabel='area'>,\n",
       "        <AxesSubplot:xlabel='age', ylabel='area'>,\n",
       "        <AxesSubplot:xlabel='price', ylabel='area'>],\n",
       "       [<AxesSubplot:xlabel='area', ylabel='bedroom'>,\n",
       "        <AxesSubplot:xlabel='bedroom', ylabel='bedroom'>,\n",
       "        <AxesSubplot:xlabel='age', ylabel='bedroom'>,\n",
       "        <AxesSubplot:xlabel='price', ylabel='bedroom'>],\n",
       "       [<AxesSubplot:xlabel='area', ylabel='age'>,\n",
       "        <AxesSubplot:xlabel='bedroom', ylabel='age'>,\n",
       "        <AxesSubplot:xlabel='age', ylabel='age'>,\n",
       "        <AxesSubplot:xlabel='price', ylabel='age'>],\n",
       "       [<AxesSubplot:xlabel='area', ylabel='price'>,\n",
       "        <AxesSubplot:xlabel='bedroom', ylabel='price'>,\n",
       "        <AxesSubplot:xlabel='age', ylabel='price'>,\n",
       "        <AxesSubplot:xlabel='price', ylabel='price'>]], dtype=object)"
      ]
     },
     "execution_count": 8,
     "metadata": {},
     "output_type": "execute_result"
    },
    {
     "data": {
      "image/png": "[encoded data removed]",
      "text/plain": [
       "<Figure size 432x288 with 16 Axes>"
      ]
     },
     "metadata": {
      "needs_background": "light"
     },
     "output_type": "display_data"
    }
   ],
   "source": [
    "pd.plotting.scatter_matrix(df)"
   ]
  },
  {
   "cell_type": "code",
   "execution_count": 9,
   "id": "76247ef7",
   "metadata": {},
   "outputs": [
    {
     "name": "stdout",
     "output_type": "stream",
     "text": [
      "Intercept:  [383725.]\n",
      "Coefficient:  [[   137.25 -26025.    -6825.  ]]\n",
      "Predicted value of price of house with 3000 units area, 3 bedrooms and 40 units age is  [[444400.]]\n"
     ]
    }
   ],
   "source": [
    "regressor = LinearRegression();\n",
    "regressor.fit(df[['area','bedroom','age']], df[['price']])\n",
    "print('Intercept: ', regressor.intercept_)\n",
    "print('Coefficient: ', regressor.coef_)\n",
    "print('Predicted value of price of house with 3000 units area, 3 bedrooms and 40 units age is ', regressor.predict([[3000, 3, 40]]))"
   ]
  },
  {
   "cell_type": "code",
   "execution_count": 10,
   "id": "b449c91d",
   "metadata": {},
   "outputs": [
    {
     "name": "stdout",
     "output_type": "stream",
     "text": [
      "Intercept:  141624.73000004608\n",
      "Coefficient:  [  163.12497188   375.06749999 -4499.994375  ]\n",
      "Predicted Values:  [583749.94375001 476874.971875  ]\n",
      "Mean Absolute Error:  49687.54218749283\n",
      "Mean Squared Error:  3018167595.7045054\n",
      "Root Mean Squared Error:  54937.85212132438\n",
      "R2 score:  -2.3535195507827837\n"
     ]
    }
   ],
   "source": [
    "X = df[['area','bedroom','age']]\n",
    "Y = df.price\n",
    "x_train, x_test, y_train, y_test = train_test_split(X, Y, test_size = 2, random_state = 0)\n",
    "regressor.fit(x_train, y_train)\n",
    "y_pred = regressor.predict(x_test)\n",
    "print('Intercept: ', regressor.intercept_)\n",
    "print('Coefficient: ', regressor.coef_)\n",
    "print('Predicted Values: ', y_pred)\n",
    "print('Mean Absolute Error: ', metrics.mean_absolute_error(y_test, y_pred))\n",
    "print('Mean Squared Error: ', metrics.mean_squared_error(y_test, y_pred))\n",
    "print('Root Mean Squared Error: ', np.sqrt(metrics.mean_squared_error(y_test, y_pred)))\n",
    "print('R2 score: ', r2_score(y_test, y_pred))"
   ]
  },
  {
   "cell_type": "code",
   "execution_count": 11,
   "id": "9127244f",
   "metadata": {},
   "outputs": [
    {
     "data": {
      "text/html": [
       "<div>\n",
       "<style scoped>\n",
       "    .dataframe tbody tr th:only-of-type {\n",
       "        vertical-align: middle;\n",
       "    }\n",
       "\n",
       "    .dataframe tbody tr th {\n",
       "        vertical-align: top;\n",
       "    }\n",
       "\n",
       "    .dataframe thead th {\n",
       "        text-align: right;\n",
       "    }\n",
       "</style>\n",
       "<table border=\"1\" class=\"dataframe\">\n",
       "  <thead>\n",
       "    <tr style=\"text-align: right;\">\n",
       "      <th></th>\n",
       "      <th>age</th>\n",
       "      <th>sex</th>\n",
       "      <th>bmi</th>\n",
       "      <th>children</th>\n",
       "      <th>smoker</th>\n",
       "      <th>region</th>\n",
       "      <th>charges</th>\n",
       "    </tr>\n",
       "  </thead>\n",
       "  <tbody>\n",
       "    <tr>\n",
       "      <th>0</th>\n",
       "      <td>19</td>\n",
       "      <td>female</td>\n",
       "      <td>27.900</td>\n",
       "      <td>0</td>\n",
       "      <td>yes</td>\n",
       "      <td>southwest</td>\n",
       "      <td>16884.92400</td>\n",
       "    </tr>\n",
       "    <tr>\n",
       "      <th>1</th>\n",
       "      <td>18</td>\n",
       "      <td>male</td>\n",
       "      <td>33.770</td>\n",
       "      <td>1</td>\n",
       "      <td>no</td>\n",
       "      <td>southeast</td>\n",
       "      <td>1725.55230</td>\n",
       "    </tr>\n",
       "    <tr>\n",
       "      <th>2</th>\n",
       "      <td>28</td>\n",
       "      <td>male</td>\n",
       "      <td>33.000</td>\n",
       "      <td>3</td>\n",
       "      <td>no</td>\n",
       "      <td>southeast</td>\n",
       "      <td>4449.46200</td>\n",
       "    </tr>\n",
       "    <tr>\n",
       "      <th>3</th>\n",
       "      <td>33</td>\n",
       "      <td>male</td>\n",
       "      <td>22.705</td>\n",
       "      <td>0</td>\n",
       "      <td>no</td>\n",
       "      <td>northwest</td>\n",
       "      <td>21984.47061</td>\n",
       "    </tr>\n",
       "    <tr>\n",
       "      <th>4</th>\n",
       "      <td>32</td>\n",
       "      <td>male</td>\n",
       "      <td>28.880</td>\n",
       "      <td>0</td>\n",
       "      <td>no</td>\n",
       "      <td>northwest</td>\n",
       "      <td>3866.85520</td>\n",
       "    </tr>\n",
       "    <tr>\n",
       "      <th>...</th>\n",
       "      <td>...</td>\n",
       "      <td>...</td>\n",
       "      <td>...</td>\n",
       "      <td>...</td>\n",
       "      <td>...</td>\n",
       "      <td>...</td>\n",
       "      <td>...</td>\n",
       "    </tr>\n",
       "    <tr>\n",
       "      <th>1333</th>\n",
       "      <td>50</td>\n",
       "      <td>male</td>\n",
       "      <td>30.970</td>\n",
       "      <td>3</td>\n",
       "      <td>no</td>\n",
       "      <td>northwest</td>\n",
       "      <td>10600.54830</td>\n",
       "    </tr>\n",
       "    <tr>\n",
       "      <th>1334</th>\n",
       "      <td>18</td>\n",
       "      <td>female</td>\n",
       "      <td>31.920</td>\n",
       "      <td>0</td>\n",
       "      <td>no</td>\n",
       "      <td>northeast</td>\n",
       "      <td>2205.98080</td>\n",
       "    </tr>\n",
       "    <tr>\n",
       "      <th>1335</th>\n",
       "      <td>18</td>\n",
       "      <td>female</td>\n",
       "      <td>36.850</td>\n",
       "      <td>0</td>\n",
       "      <td>no</td>\n",
       "      <td>southeast</td>\n",
       "      <td>1629.83350</td>\n",
       "    </tr>\n",
       "    <tr>\n",
       "      <th>1336</th>\n",
       "      <td>21</td>\n",
       "      <td>female</td>\n",
       "      <td>25.800</td>\n",
       "      <td>0</td>\n",
       "      <td>no</td>\n",
       "      <td>southwest</td>\n",
       "      <td>2007.94500</td>\n",
       "    </tr>\n",
       "    <tr>\n",
       "      <th>1337</th>\n",
       "      <td>61</td>\n",
       "      <td>female</td>\n",
       "      <td>29.070</td>\n",
       "      <td>0</td>\n",
       "      <td>yes</td>\n",
       "      <td>northwest</td>\n",
       "      <td>29141.36030</td>\n",
       "    </tr>\n",
       "  </tbody>\n",
       "</table>\n",
       "<p>1338 rows × 7 columns</p>\n",
       "</div>"
      ],
      "text/plain": [
       "      age     sex     bmi  children smoker     region      charges\n",
       "0      19  female  27.900         0    yes  southwest  16884.92400\n",
       "1      18    male  33.770         1     no  southeast   1725.55230\n",
       "2      28    male  33.000         3     no  southeast   4449.46200\n",
       "3      33    male  22.705         0     no  northwest  21984.47061\n",
       "4      32    male  28.880         0     no  northwest   3866.85520\n",
       "...   ...     ...     ...       ...    ...        ...          ...\n",
       "1333   50    male  30.970         3     no  northwest  10600.54830\n",
       "1334   18  female  31.920         0     no  northeast   2205.98080\n",
       "1335   18  female  36.850         0     no  southeast   1629.83350\n",
       "1336   21  female  25.800         0     no  southwest   2007.94500\n",
       "1337   61  female  29.070         0    yes  northwest  29141.36030\n",
       "\n",
       "[1338 rows x 7 columns]"
      ]
     },
     "execution_count": 11,
     "metadata": {},
     "output_type": "execute_result"
    }
   ],
   "source": [
    "df = pd.read_csv(r\"C:\\Users\\Raider\\Downloads\\insurance.csv\");\n",
    "df"
   ]
  },
  {
   "cell_type": "code",
   "execution_count": 12,
   "id": "7abfac84",
   "metadata": {},
   "outputs": [
    {
     "name": "stdout",
     "output_type": "stream",
     "text": [
      "Intercept:  141624.73000004608\n",
      "Coefficient:  [  163.12497188   375.06749999 -4499.994375  ]\n"
     ]
    }
   ],
   "source": [
    "from sklearn.linear_model import LinearRegression\n",
    "reg = LinearRegression();\n",
    "reg.fit(df[['age','bmi','children']], df[['charges']])\n",
    "print('Intercept: ', regressor.intercept_)\n",
    "print('Coefficient: ', regressor.coef_)"
   ]
  },
  {
   "cell_type": "code",
   "execution_count": 15,
   "id": "4e166146",
   "metadata": {},
   "outputs": [
    {
     "name": "stdout",
     "output_type": "stream",
     "text": [
      "      female  male\n",
      "0          1     0\n",
      "1          0     1\n",
      "2          0     1\n",
      "3          0     1\n",
      "4          0     1\n",
      "...      ...   ...\n",
      "1333       0     1\n",
      "1334       1     0\n",
      "1335       1     0\n",
      "1336       1     0\n",
      "1337       1     0\n",
      "\n",
      "[1338 rows x 2 columns]\n",
      "      age     sex     bmi  children smoker     region      charges  female  \\\n",
      "0      19  female  27.900         0    yes  southwest  16884.92400       1   \n",
      "1      18    male  33.770         1     no  southeast   1725.55230       0   \n",
      "2      28    male  33.000         3     no  southeast   4449.46200       0   \n",
      "3      33    male  22.705         0     no  northwest  21984.47061       0   \n",
      "4      32    male  28.880         0     no  northwest   3866.85520       0   \n",
      "...   ...     ...     ...       ...    ...        ...          ...     ...   \n",
      "1333   50    male  30.970         3     no  northwest  10600.54830       0   \n",
      "1334   18  female  31.920         0     no  northeast   2205.98080       1   \n",
      "1335   18  female  36.850         0     no  southeast   1629.83350       1   \n",
      "1336   21  female  25.800         0     no  southwest   2007.94500       1   \n",
      "1337   61  female  29.070         0    yes  northwest  29141.36030       1   \n",
      "\n",
      "      male  \n",
      "0        0  \n",
      "1        1  \n",
      "2        1  \n",
      "3        1  \n",
      "4        1  \n",
      "...    ...  \n",
      "1333     1  \n",
      "1334     0  \n",
      "1335     0  \n",
      "1336     0  \n",
      "1337     0  \n",
      "\n",
      "[1338 rows x 9 columns]\n",
      "      age     bmi  children smoker     region      charges  female\n",
      "0      19  27.900         0    yes  southwest  16884.92400       1\n",
      "1      18  33.770         1     no  southeast   1725.55230       0\n",
      "2      28  33.000         3     no  southeast   4449.46200       0\n",
      "3      33  22.705         0     no  northwest  21984.47061       0\n",
      "4      32  28.880         0     no  northwest   3866.85520       0\n",
      "...   ...     ...       ...    ...        ...          ...     ...\n",
      "1333   50  30.970         3     no  northwest  10600.54830       0\n",
      "1334   18  31.920         0     no  northeast   2205.98080       1\n",
      "1335   18  36.850         0     no  southeast   1629.83350       1\n",
      "1336   21  25.800         0     no  southwest   2007.94500       1\n",
      "1337   61  29.070         0    yes  northwest  29141.36030       1\n",
      "\n",
      "[1338 rows x 7 columns]\n"
     ]
    }
   ],
   "source": [
    "df_dummy = pd.get_dummies(df.sex)\n",
    "print(df_dummy)\n",
    "df_dummy = pd.concat([df, df_dummy], axis = 'columns')\n",
    "print(df_dummy)\n",
    "df_dummy = df_dummy.drop(['sex', 'male'], axis='columns')\n",
    "print(df_dummy)"
   ]
  },
  {
   "cell_type": "code",
   "execution_count": 16,
   "id": "f7f5d33c",
   "metadata": {},
   "outputs": [
    {
     "name": "stdout",
     "output_type": "stream",
     "text": [
      "      age     bmi  children      charges  female  region_northeast  \\\n",
      "0      19  27.900         0  16884.92400       1                 0   \n",
      "1      18  33.770         1   1725.55230       0                 0   \n",
      "2      28  33.000         3   4449.46200       0                 0   \n",
      "3      33  22.705         0  21984.47061       0                 0   \n",
      "4      32  28.880         0   3866.85520       0                 0   \n",
      "...   ...     ...       ...          ...     ...               ...   \n",
      "1333   50  30.970         3  10600.54830       0                 0   \n",
      "1334   18  31.920         0   2205.98080       1                 1   \n",
      "1335   18  36.850         0   1629.83350       1                 0   \n",
      "1336   21  25.800         0   2007.94500       1                 0   \n",
      "1337   61  29.070         0  29141.36030       1                 0   \n",
      "\n",
      "      region_northwest  region_southeast  smoker_no  \n",
      "0                    0                 0          0  \n",
      "1                    0                 1          1  \n",
      "2                    0                 1          1  \n",
      "3                    1                 0          1  \n",
      "4                    1                 0          1  \n",
      "...                ...               ...        ...  \n",
      "1333                 1                 0          1  \n",
      "1334                 0                 0          1  \n",
      "1335                 0                 1          1  \n",
      "1336                 0                 0          1  \n",
      "1337                 1                 0          0  \n",
      "\n",
      "[1338 rows x 9 columns]\n"
     ]
    }
   ],
   "source": [
    "df_dummy2 = pd.get_dummies(df[['region', 'smoker']])\n",
    "df_dummy2 = pd.concat([df_dummy, df_dummy2], axis = 'columns')\n",
    "df_dummy2 = df_dummy2.drop(['smoker', 'smoker_yes', 'region', 'region_southwest'], axis='columns')\n",
    "print(df_dummy2)"
   ]
  },
  {
   "cell_type": "code",
   "execution_count": 17,
   "id": "73bf9bf3",
   "metadata": {},
   "outputs": [
    {
     "data": {
      "text/plain": [
       "array([[<AxesSubplot:xlabel='age', ylabel='age'>,\n",
       "        <AxesSubplot:xlabel='bmi', ylabel='age'>,\n",
       "        <AxesSubplot:xlabel='children', ylabel='age'>,\n",
       "        <AxesSubplot:xlabel='charges', ylabel='age'>,\n",
       "        <AxesSubplot:xlabel='female', ylabel='age'>,\n",
       "        <AxesSubplot:xlabel='region_northeast', ylabel='age'>,\n",
       "        <AxesSubplot:xlabel='region_northwest', ylabel='age'>,\n",
       "        <AxesSubplot:xlabel='region_southeast', ylabel='age'>,\n",
       "        <AxesSubplot:xlabel='smoker_no', ylabel='age'>],\n",
       "       [<AxesSubplot:xlabel='age', ylabel='bmi'>,\n",
       "        <AxesSubplot:xlabel='bmi', ylabel='bmi'>,\n",
       "        <AxesSubplot:xlabel='children', ylabel='bmi'>,\n",
       "        <AxesSubplot:xlabel='charges', ylabel='bmi'>,\n",
       "        <AxesSubplot:xlabel='female', ylabel='bmi'>,\n",
       "        <AxesSubplot:xlabel='region_northeast', ylabel='bmi'>,\n",
       "        <AxesSubplot:xlabel='region_northwest', ylabel='bmi'>,\n",
       "        <AxesSubplot:xlabel='region_southeast', ylabel='bmi'>,\n",
       "        <AxesSubplot:xlabel='smoker_no', ylabel='bmi'>],\n",
       "       [<AxesSubplot:xlabel='age', ylabel='children'>,\n",
       "        <AxesSubplot:xlabel='bmi', ylabel='children'>,\n",
       "        <AxesSubplot:xlabel='children', ylabel='children'>,\n",
       "        <AxesSubplot:xlabel='charges', ylabel='children'>,\n",
       "        <AxesSubplot:xlabel='female', ylabel='children'>,\n",
       "        <AxesSubplot:xlabel='region_northeast', ylabel='children'>,\n",
       "        <AxesSubplot:xlabel='region_northwest', ylabel='children'>,\n",
       "        <AxesSubplot:xlabel='region_southeast', ylabel='children'>,\n",
       "        <AxesSubplot:xlabel='smoker_no', ylabel='children'>],\n",
       "       [<AxesSubplot:xlabel='age', ylabel='charges'>,\n",
       "        <AxesSubplot:xlabel='bmi', ylabel='charges'>,\n",
       "        <AxesSubplot:xlabel='children', ylabel='charges'>,\n",
       "        <AxesSubplot:xlabel='charges', ylabel='charges'>,\n",
       "        <AxesSubplot:xlabel='female', ylabel='charges'>,\n",
       "        <AxesSubplot:xlabel='region_northeast', ylabel='charges'>,\n",
       "        <AxesSubplot:xlabel='region_northwest', ylabel='charges'>,\n",
       "        <AxesSubplot:xlabel='region_southeast', ylabel='charges'>,\n",
       "        <AxesSubplot:xlabel='smoker_no', ylabel='charges'>],\n",
       "       [<AxesSubplot:xlabel='age', ylabel='female'>,\n",
       "        <AxesSubplot:xlabel='bmi', ylabel='female'>,\n",
       "        <AxesSubplot:xlabel='children', ylabel='female'>,\n",
       "        <AxesSubplot:xlabel='charges', ylabel='female'>,\n",
       "        <AxesSubplot:xlabel='female', ylabel='female'>,\n",
       "        <AxesSubplot:xlabel='region_northeast', ylabel='female'>,\n",
       "        <AxesSubplot:xlabel='region_northwest', ylabel='female'>,\n",
       "        <AxesSubplot:xlabel='region_southeast', ylabel='female'>,\n",
       "        <AxesSubplot:xlabel='smoker_no', ylabel='female'>],\n",
       "       [<AxesSubplot:xlabel='age', ylabel='region_northeast'>,\n",
       "        <AxesSubplot:xlabel='bmi', ylabel='region_northeast'>,\n",
       "        <AxesSubplot:xlabel='children', ylabel='region_northeast'>,\n",
       "        <AxesSubplot:xlabel='charges', ylabel='region_northeast'>,\n",
       "        <AxesSubplot:xlabel='female', ylabel='region_northeast'>,\n",
       "        <AxesSubplot:xlabel='region_northeast', ylabel='region_northeast'>,\n",
       "        <AxesSubplot:xlabel='region_northwest', ylabel='region_northeast'>,\n",
       "        <AxesSubplot:xlabel='region_southeast', ylabel='region_northeast'>,\n",
       "        <AxesSubplot:xlabel='smoker_no', ylabel='region_northeast'>],\n",
       "       [<AxesSubplot:xlabel='age', ylabel='region_northwest'>,\n",
       "        <AxesSubplot:xlabel='bmi', ylabel='region_northwest'>,\n",
       "        <AxesSubplot:xlabel='children', ylabel='region_northwest'>,\n",
       "        <AxesSubplot:xlabel='charges', ylabel='region_northwest'>,\n",
       "        <AxesSubplot:xlabel='female', ylabel='region_northwest'>,\n",
       "        <AxesSubplot:xlabel='region_northeast', ylabel='region_northwest'>,\n",
       "        <AxesSubplot:xlabel='region_northwest', ylabel='region_northwest'>,\n",
       "        <AxesSubplot:xlabel='region_southeast', ylabel='region_northwest'>,\n",
       "        <AxesSubplot:xlabel='smoker_no', ylabel='region_northwest'>],\n",
       "       [<AxesSubplot:xlabel='age', ylabel='region_southeast'>,\n",
       "        <AxesSubplot:xlabel='bmi', ylabel='region_southeast'>,\n",
       "        <AxesSubplot:xlabel='children', ylabel='region_southeast'>,\n",
       "        <AxesSubplot:xlabel='charges', ylabel='region_southeast'>,\n",
       "        <AxesSubplot:xlabel='female', ylabel='region_southeast'>,\n",
       "        <AxesSubplot:xlabel='region_northeast', ylabel='region_southeast'>,\n",
       "        <AxesSubplot:xlabel='region_northwest', ylabel='region_southeast'>,\n",
       "        <AxesSubplot:xlabel='region_southeast', ylabel='region_southeast'>,\n",
       "        <AxesSubplot:xlabel='smoker_no', ylabel='region_southeast'>],\n",
       "       [<AxesSubplot:xlabel='age', ylabel='smoker_no'>,\n",
       "        <AxesSubplot:xlabel='bmi', ylabel='smoker_no'>,\n",
       "        <AxesSubplot:xlabel='children', ylabel='smoker_no'>,\n",
       "        <AxesSubplot:xlabel='charges', ylabel='smoker_no'>,\n",
       "        <AxesSubplot:xlabel='female', ylabel='smoker_no'>,\n",
       "        <AxesSubplot:xlabel='region_northeast', ylabel='smoker_no'>,\n",
       "        <AxesSubplot:xlabel='region_northwest', ylabel='smoker_no'>,\n",
       "        <AxesSubplot:xlabel='region_southeast', ylabel='smoker_no'>,\n",
       "        <AxesSubplot:xlabel='smoker_no', ylabel='smoker_no'>]],\n",
       "      dtype=object)"
      ]
     },
     "execution_count": 17,
     "metadata": {},
     "output_type": "execute_result"
    },
    {
     "data": {
      "image/png": "[encoded data removed]",
      "text/plain": [
       "<Figure size 432x288 with 81 Axes>"
      ]
     },
     "metadata": {
      "needs_background": "light"
     },
     "output_type": "display_data"
    }
   ],
   "source": [
    "pd.plotting.scatter_matrix(df_dummy2)"
   ]
  },
  {
   "cell_type": "code",
   "execution_count": 18,
   "id": "3806825b",
   "metadata": {},
   "outputs": [
    {
     "name": "stdout",
     "output_type": "stream",
     "text": [
      "Intercept:  141624.73000004608\n",
      "Coefficient:  [  163.12497188   375.06749999 -4499.994375  ]\n",
      "Pedicted value for charges for 19 units of age, 27.9 units of bmi, 0 units of children, 1 units of female, 0 units of region_northeast, 0 units of region_northwest, 0 units of region_southeast, 0 units of smoker_no:  [[25293.7130284]]\n"
     ]
    }
   ],
   "source": [
    "X = df_dummy2[['age', 'bmi', 'children', 'female', 'region_northeast', 'region_northwest', 'region_southeast', 'smoker_no']]\n",
    "Y = df_dummy2[['charges']]\n",
    "reg = LinearRegression()\n",
    "reg.fit(X,Y)\n",
    "print('Intercept: ', regressor.intercept_)\n",
    "print('Coefficient: ', regressor.coef_)\n",
    "print('Pedicted value for charges for 19 units of age, 27.9 units of bmi, 0 units of children, 1 units of female, 0 units of region_northeast, 0 units of region_northwest, 0 units of region_southeast, 0 units of smoker_no: ', reg.predict([[19, 27.9, 0, 1, 0, 0, 0, 0]]))"
   ]
  }
 ],
 "metadata": {
  "kernelspec": {
   "display_name": "Python 3",
   "language": "python",
   "name": "python3"
  },
  "language_info": {
   "codemirror_mode": {
    "name": "ipython",
    "version": 3
   },
   "file_extension": ".py",
   "mimetype": "text/x-python",
   "name": "python",
   "nbconvert_exporter": "python",
   "pygments_lexer": "ipython3",
   "version": "3.8.8"
  }
 },
 "nbformat": 4,
 "nbformat_minor": 5
}
