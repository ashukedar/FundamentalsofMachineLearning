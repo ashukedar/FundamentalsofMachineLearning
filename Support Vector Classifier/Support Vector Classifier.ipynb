{
 "cells": [
  {
   "cell_type": "code",
   "execution_count": 1,
   "id": "daf8bebe",
   "metadata": {},
   "outputs": [
    {
     "data": {
      "text/html": [
       "<div>\n",
       "<style scoped>\n",
       "    .dataframe tbody tr th:only-of-type {\n",
       "        vertical-align: middle;\n",
       "    }\n",
       "\n",
       "    .dataframe tbody tr th {\n",
       "        vertical-align: top;\n",
       "    }\n",
       "\n",
       "    .dataframe thead th {\n",
       "        text-align: right;\n",
       "    }\n",
       "</style>\n",
       "<table border=\"1\" class=\"dataframe\">\n",
       "  <thead>\n",
       "    <tr style=\"text-align: right;\">\n",
       "      <th></th>\n",
       "      <th>sepal.length</th>\n",
       "      <th>sepal.width</th>\n",
       "      <th>petal.length</th>\n",
       "      <th>petal.width</th>\n",
       "      <th>variety</th>\n",
       "    </tr>\n",
       "  </thead>\n",
       "  <tbody>\n",
       "    <tr>\n",
       "      <th>0</th>\n",
       "      <td>5.1</td>\n",
       "      <td>3.5</td>\n",
       "      <td>1.4</td>\n",
       "      <td>0.2</td>\n",
       "      <td>1</td>\n",
       "    </tr>\n",
       "    <tr>\n",
       "      <th>1</th>\n",
       "      <td>4.9</td>\n",
       "      <td>3.0</td>\n",
       "      <td>1.4</td>\n",
       "      <td>0.2</td>\n",
       "      <td>1</td>\n",
       "    </tr>\n",
       "    <tr>\n",
       "      <th>2</th>\n",
       "      <td>4.7</td>\n",
       "      <td>3.2</td>\n",
       "      <td>1.3</td>\n",
       "      <td>0.2</td>\n",
       "      <td>1</td>\n",
       "    </tr>\n",
       "    <tr>\n",
       "      <th>3</th>\n",
       "      <td>4.6</td>\n",
       "      <td>3.1</td>\n",
       "      <td>1.5</td>\n",
       "      <td>0.2</td>\n",
       "      <td>1</td>\n",
       "    </tr>\n",
       "    <tr>\n",
       "      <th>4</th>\n",
       "      <td>5.0</td>\n",
       "      <td>3.6</td>\n",
       "      <td>1.4</td>\n",
       "      <td>0.2</td>\n",
       "      <td>1</td>\n",
       "    </tr>\n",
       "    <tr>\n",
       "      <th>...</th>\n",
       "      <td>...</td>\n",
       "      <td>...</td>\n",
       "      <td>...</td>\n",
       "      <td>...</td>\n",
       "      <td>...</td>\n",
       "    </tr>\n",
       "    <tr>\n",
       "      <th>95</th>\n",
       "      <td>5.7</td>\n",
       "      <td>3.0</td>\n",
       "      <td>4.2</td>\n",
       "      <td>1.2</td>\n",
       "      <td>2</td>\n",
       "    </tr>\n",
       "    <tr>\n",
       "      <th>96</th>\n",
       "      <td>5.7</td>\n",
       "      <td>2.9</td>\n",
       "      <td>4.2</td>\n",
       "      <td>1.3</td>\n",
       "      <td>2</td>\n",
       "    </tr>\n",
       "    <tr>\n",
       "      <th>97</th>\n",
       "      <td>6.2</td>\n",
       "      <td>2.9</td>\n",
       "      <td>4.3</td>\n",
       "      <td>1.3</td>\n",
       "      <td>2</td>\n",
       "    </tr>\n",
       "    <tr>\n",
       "      <th>98</th>\n",
       "      <td>5.1</td>\n",
       "      <td>2.5</td>\n",
       "      <td>3.0</td>\n",
       "      <td>1.1</td>\n",
       "      <td>2</td>\n",
       "    </tr>\n",
       "    <tr>\n",
       "      <th>99</th>\n",
       "      <td>5.7</td>\n",
       "      <td>2.8</td>\n",
       "      <td>4.1</td>\n",
       "      <td>1.3</td>\n",
       "      <td>2</td>\n",
       "    </tr>\n",
       "  </tbody>\n",
       "</table>\n",
       "<p>100 rows × 5 columns</p>\n",
       "</div>"
      ],
      "text/plain": [
       "    sepal.length  sepal.width  petal.length  petal.width  variety\n",
       "0            5.1          3.5           1.4          0.2        1\n",
       "1            4.9          3.0           1.4          0.2        1\n",
       "2            4.7          3.2           1.3          0.2        1\n",
       "3            4.6          3.1           1.5          0.2        1\n",
       "4            5.0          3.6           1.4          0.2        1\n",
       "..           ...          ...           ...          ...      ...\n",
       "95           5.7          3.0           4.2          1.2        2\n",
       "96           5.7          2.9           4.2          1.3        2\n",
       "97           6.2          2.9           4.3          1.3        2\n",
       "98           5.1          2.5           3.0          1.1        2\n",
       "99           5.7          2.8           4.1          1.3        2\n",
       "\n",
       "[100 rows x 5 columns]"
      ]
     },
     "execution_count": 1,
     "metadata": {},
     "output_type": "execute_result"
    }
   ],
   "source": [
    "import numpy as np;\n",
    "import pandas as pd;\n",
    "from matplotlib import pyplot as plt;\n",
    "\n",
    "df = pd.read_csv(r\"C:\\Users\\Raider\\Downloads\\Iris.csv\");\n",
    "df.variety = df.variety.replace({\"Setosa\":1,\"Versicolor\":2,\"Virginica\":3})\n",
    "df = df[df.variety != 3]\n",
    "df"
   ]
  },
  {
   "cell_type": "code",
   "execution_count": 2,
   "id": "940c7471",
   "metadata": {},
   "outputs": [],
   "source": [
    "df1 = df[df.variety == 1]\n",
    "df2 = df[df.variety == 2]"
   ]
  },
  {
   "cell_type": "code",
   "execution_count": 3,
   "id": "42cf87fc",
   "metadata": {},
   "outputs": [
    {
     "data": {
      "text/plain": [
       "<matplotlib.collections.PathCollection at 0x22b07194160>"
      ]
     },
     "execution_count": 3,
     "metadata": {},
     "output_type": "execute_result"
    },
    {
     "data": {
      "image/png": "[encoded data removed]",
      "text/plain": [
       "<Figure size 432x288 with 1 Axes>"
      ]
     },
     "metadata": {
      "needs_background": "light"
     },
     "output_type": "display_data"
    }
   ],
   "source": [
    "plt.scatter(df1['petal.length'], df1['petal.width'], color='green')\n",
    "plt.scatter(df2['petal.length'], df2['petal.width'], color='red')"
   ]
  },
  {
   "cell_type": "code",
   "execution_count": 4,
   "id": "04ab46e1",
   "metadata": {},
   "outputs": [
    {
     "data": {
      "text/plain": [
       "<matplotlib.collections.PathCollection at 0x22b07268fa0>"
      ]
     },
     "execution_count": 4,
     "metadata": {},
     "output_type": "execute_result"
    },
    {
     "data": {
      "image/png": "[encoded data removed]",
      "text/plain": [
       "<Figure size 432x288 with 1 Axes>"
      ]
     },
     "metadata": {
      "needs_background": "light"
     },
     "output_type": "display_data"
    }
   ],
   "source": [
    "plt.scatter(df1['sepal.length'], df1['sepal.width'], color='green')\n",
    "plt.scatter(df2['sepal.length'], df2['sepal.width'], color='red')"
   ]
  },
  {
   "cell_type": "code",
   "execution_count": 5,
   "id": "50fc34b0",
   "metadata": {},
   "outputs": [],
   "source": [
    "from sklearn import metrics\n",
    "from sklearn.metrics import r2_score\n",
    "from sklearn.model_selection import train_test_split\n",
    "\n",
    "X = df.drop(['variety'], axis = 1)\n",
    "Y = df.variety\n",
    "\n",
    "x_train, x_test, y_train, y_test = train_test_split(X,Y,test_size=0.1,random_state=0)"
   ]
  },
  {
   "cell_type": "code",
   "execution_count": 6,
   "id": "aec73360",
   "metadata": {},
   "outputs": [
    {
     "name": "stdout",
     "output_type": "stream",
     "text": [
      "Predicted values for test data: [1 2 1 2 2 2 1 2 2 2]\n",
      "Score for training data: 1.0\n",
      "Score for test data: 1.0\n",
      "Intercept:  [-1.4524129]\n",
      "Coefficient:  [[ 0.04621618 -0.52128466  1.00306716  0.46413911]]\n"
     ]
    }
   ],
   "source": [
    "from sklearn.svm import SVC\n",
    "\n",
    "model = SVC(kernel='linear')\n",
    "model.fit(x_train,y_train)\n",
    "y_pred = model.predict(x_test)\n",
    "\n",
    "print(\"Predicted values for test data:\", y_pred)\n",
    "print(\"Score for training data:\", model.score(x_train,y_train))\n",
    "print(\"Score for test data:\", model.score(x_test,y_test))\n",
    "print('Intercept: ', model.intercept_)\n",
    "print('Coefficient: ', model.coef_)"
   ]
  },
  {
   "cell_type": "code",
   "execution_count": 7,
   "id": "2559e146",
   "metadata": {},
   "outputs": [],
   "source": [
    "df = pd.read_csv(r\"C:\\Users\\Raider\\Downloads\\heart.csv\");\n",
    "df\n",
    "\n",
    "X = df.drop(['TenYearCHD'], axis = 1)\n",
    "Y = df.TenYearCHD\n",
    "\n",
    "x_train, x_test, y_train, y_test = train_test_split(X,Y,test_size=0.1,random_state=0)"
   ]
  },
  {
   "cell_type": "code",
   "execution_count": 8,
   "id": "bbffab85",
   "metadata": {},
   "outputs": [
    {
     "name": "stdout",
     "output_type": "stream",
     "text": [
      "Predicted values for test data: [0 0 0 0 0 0 0 0 0 0 0 0 0 0 0 0 0 0 0 0 0 0 0 0 0]\n",
      "Score for training data: 0.8080357142857143\n",
      "Score for test data: 0.8\n",
      "Intercept:  [-1.17430685]\n",
      "Coefficient:  [[-4.26572814e-04  8.73745182e-04 -2.22240276e-03 -7.87679386e-03\n",
      "   9.31364177e-04 -6.89826308e-03 -6.89826308e-03  2.05384710e-02\n",
      "  -1.35869663e-02  3.70893031e-04 -6.10207326e-05  2.61237798e-04\n",
      "   1.66764282e-03 -6.86445111e-04  6.82813447e-05]]\n"
     ]
    }
   ],
   "source": [
    "model = SVC(kernel='linear')\n",
    "model.fit(x_train,y_train)\n",
    "y_pred = model.predict(x_test)\n",
    "\n",
    "print(\"Predicted values for test data:\", y_pred)\n",
    "print(\"Score for training data:\", model.score(x_train,y_train))\n",
    "print(\"Score for test data:\", model.score(x_test,y_test))\n",
    "print('Intercept: ', model.intercept_)\n",
    "print('Coefficient: ', model.coef_)"
   ]
  },
  {
   "cell_type": "code",
   "execution_count": 9,
   "id": "53d52347",
   "metadata": {},
   "outputs": [
    {
     "name": "stdout",
     "output_type": "stream",
     "text": [
      "Predicted values for test data: [0 0 0 0 0 0 0 0 0 0 0 0 0 0 0 0 0 0 0 0 0 0 0 0 0]\n",
      "Score for training data: 0.8080357142857143\n",
      "Score for test data: 0.8\n",
      "Intercept:  [-1.00494369]\n"
     ]
    }
   ],
   "source": [
    "#Alternative kernels\n",
    "model = SVC(kernel='poly')\n",
    "#default degree for poly is 3\n",
    "model.fit(x_train,y_train)\n",
    "y_pred = model.predict(x_test)\n",
    "\n",
    "print(\"Predicted values for test data:\", y_pred)\n",
    "print(\"Score for training data:\", model.score(x_train,y_train))\n",
    "print(\"Score for test data:\", model.score(x_test,y_test))\n",
    "print('Intercept: ', model.intercept_)\n",
    "#Coef is only available for linear kernel"
   ]
  },
  {
   "cell_type": "code",
   "execution_count": 10,
   "id": "31b67f11",
   "metadata": {},
   "outputs": [
    {
     "data": {
      "text/plain": [
       "array([[20,  0],\n",
       "       [ 5,  0]], dtype=int64)"
      ]
     },
     "execution_count": 10,
     "metadata": {},
     "output_type": "execute_result"
    }
   ],
   "source": [
    "from sklearn import metrics\n",
    "\n",
    "metrics.confusion_matrix(y_test, y_pred)"
   ]
  }
 ],
 "metadata": {
  "kernelspec": {
   "display_name": "Python 3",
   "language": "python",
   "name": "python3"
  },
  "language_info": {
   "codemirror_mode": {
    "name": "ipython",
    "version": 3
   },
   "file_extension": ".py",
   "mimetype": "text/x-python",
   "name": "python",
   "nbconvert_exporter": "python",
   "pygments_lexer": "ipython3",
   "version": "3.8.8"
  }
 },
 "nbformat": 4,
 "nbformat_minor": 5
}
