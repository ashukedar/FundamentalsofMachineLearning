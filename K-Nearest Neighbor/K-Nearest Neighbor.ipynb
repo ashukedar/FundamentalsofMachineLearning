{
 "cells": [
  {
   "cell_type": "code",
   "execution_count": 1,
   "id": "1010c38a",
   "metadata": {},
   "outputs": [
    {
     "name": "stdout",
     "output_type": "stream",
     "text": [
      "original X    sepal.length  sepal.width  petal.length  petal.width\n",
      "0           5.1          3.5           1.4          0.2\n",
      "1           4.9          3.0           1.4          0.2\n",
      "2           4.7          3.2           1.3          0.2\n",
      "3           4.6          3.1           1.5          0.2\n",
      "4           5.0          3.6           1.4          0.2\n",
      "scaled X [[-0.90068117  1.01900435 -1.34022653 -1.3154443 ]\n",
      " [-1.14301691 -0.13197948 -1.34022653 -1.3154443 ]\n",
      " [-1.38535265  0.32841405 -1.39706395 -1.3154443 ]\n",
      " [-1.50652052  0.09821729 -1.2833891  -1.3154443 ]\n",
      " [-1.02184904  1.24920112 -1.34022653 -1.3154443 ]]\n"
     ]
    }
   ],
   "source": [
    "import numpy as np;\n",
    "import pandas as pd;\n",
    "from sklearn.model_selection import train_test_split\n",
    "\n",
    "#Standardising Scalar input values \n",
    "from sklearn.preprocessing import StandardScaler\n",
    "df = pd.read_csv(r\"C:\\Users\\Raider\\Downloads\\Iris.csv\");\n",
    "df.variety = df.variety.replace({\"Setosa\":1,\"Versicolor\":2,\"Virginica\":3})\n",
    "\n",
    "X = df.drop(['variety'], axis = 1)\n",
    "Y = df.variety\n",
    "print(\"original X\", X.head(5))\n",
    "\n",
    "X = StandardScaler().fit_transform(X)\n",
    "print(\"scaled X\", X[:5])\n",
    "\n",
    "x_train, x_test, y_train, y_test = train_test_split(X,Y,test_size=0.1,random_state=0)"
   ]
  },
  {
   "cell_type": "code",
   "execution_count": 2,
   "id": "11ffded7",
   "metadata": {},
   "outputs": [
    {
     "name": "stdout",
     "output_type": "stream",
     "text": [
      "Predicted values for test data: [3 2 1 3 1 3 1 2 2 2 3 2 2 2 2]\n",
      "Score for training data: 0.9629629629629629\n",
      "Score for test data: 1.0\n"
     ]
    }
   ],
   "source": [
    "#KNeighborsClassifier\n",
    "from sklearn.neighbors import KNeighborsClassifier\n",
    "\n",
    "kmodel = KNeighborsClassifier(n_neighbors=5)\n",
    "kmodel.fit(x_train, y_train)\n",
    "y_pred = kmodel.predict(x_test)\n",
    "\n",
    "print(\"Predicted values for test data:\", y_pred)\n",
    "print(\"Score for training data:\", kmodel.score(x_train,y_train))\n",
    "print(\"Score for test data:\", kmodel.score(x_test,y_test))"
   ]
  }
 ],
 "metadata": {
  "kernelspec": {
   "display_name": "Python 3",
   "language": "python",
   "name": "python3"
  },
  "language_info": {
   "codemirror_mode": {
    "name": "ipython",
    "version": 3
   },
   "file_extension": ".py",
   "mimetype": "text/x-python",
   "name": "python",
   "nbconvert_exporter": "python",
   "pygments_lexer": "ipython3",
   "version": "3.8.8"
  }
 },
 "nbformat": 4,
 "nbformat_minor": 5
}
