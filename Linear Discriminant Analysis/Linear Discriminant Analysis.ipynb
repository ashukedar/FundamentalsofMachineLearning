{
 "cells": [
  {
   "cell_type": "code",
   "execution_count": 2,
   "id": "bedd8fea",
   "metadata": {},
   "outputs": [
    {
     "data": {
      "text/html": [
       "<div>\n",
       "<style scoped>\n",
       "    .dataframe tbody tr th:only-of-type {\n",
       "        vertical-align: middle;\n",
       "    }\n",
       "\n",
       "    .dataframe tbody tr th {\n",
       "        vertical-align: top;\n",
       "    }\n",
       "\n",
       "    .dataframe thead th {\n",
       "        text-align: right;\n",
       "    }\n",
       "</style>\n",
       "<table border=\"1\" class=\"dataframe\">\n",
       "  <thead>\n",
       "    <tr style=\"text-align: right;\">\n",
       "      <th></th>\n",
       "      <th>X1</th>\n",
       "      <th>X2</th>\n",
       "      <th>y</th>\n",
       "    </tr>\n",
       "  </thead>\n",
       "  <tbody>\n",
       "    <tr>\n",
       "      <th>0</th>\n",
       "      <td>1.972824</td>\n",
       "      <td>0.845520</td>\n",
       "      <td>1</td>\n",
       "    </tr>\n",
       "    <tr>\n",
       "      <th>1</th>\n",
       "      <td>1.073404</td>\n",
       "      <td>0.764249</td>\n",
       "      <td>1</td>\n",
       "    </tr>\n",
       "    <tr>\n",
       "      <th>2</th>\n",
       "      <td>2.316878</td>\n",
       "      <td>2.004126</td>\n",
       "      <td>1</td>\n",
       "    </tr>\n",
       "    <tr>\n",
       "      <th>3</th>\n",
       "      <td>2.550982</td>\n",
       "      <td>1.487281</td>\n",
       "      <td>1</td>\n",
       "    </tr>\n",
       "    <tr>\n",
       "      <th>4</th>\n",
       "      <td>-0.472917</td>\n",
       "      <td>0.699755</td>\n",
       "      <td>1</td>\n",
       "    </tr>\n",
       "    <tr>\n",
       "      <th>...</th>\n",
       "      <td>...</td>\n",
       "      <td>...</td>\n",
       "      <td>...</td>\n",
       "    </tr>\n",
       "    <tr>\n",
       "      <th>595</th>\n",
       "      <td>4.943688</td>\n",
       "      <td>3.134134</td>\n",
       "      <td>0</td>\n",
       "    </tr>\n",
       "    <tr>\n",
       "      <th>596</th>\n",
       "      <td>4.337335</td>\n",
       "      <td>2.895903</td>\n",
       "      <td>0</td>\n",
       "    </tr>\n",
       "    <tr>\n",
       "      <th>597</th>\n",
       "      <td>3.365212</td>\n",
       "      <td>2.376120</td>\n",
       "      <td>0</td>\n",
       "    </tr>\n",
       "    <tr>\n",
       "      <th>598</th>\n",
       "      <td>0.078264</td>\n",
       "      <td>1.300104</td>\n",
       "      <td>0</td>\n",
       "    </tr>\n",
       "    <tr>\n",
       "      <th>599</th>\n",
       "      <td>4.013815</td>\n",
       "      <td>2.628040</td>\n",
       "      <td>0</td>\n",
       "    </tr>\n",
       "  </tbody>\n",
       "</table>\n",
       "<p>600 rows × 3 columns</p>\n",
       "</div>"
      ],
      "text/plain": [
       "           X1        X2  y\n",
       "0    1.972824  0.845520  1\n",
       "1    1.073404  0.764249  1\n",
       "2    2.316878  2.004126  1\n",
       "3    2.550982  1.487281  1\n",
       "4   -0.472917  0.699755  1\n",
       "..        ...       ... ..\n",
       "595  4.943688  3.134134  0\n",
       "596  4.337335  2.895903  0\n",
       "597  3.365212  2.376120  0\n",
       "598  0.078264  1.300104  0\n",
       "599  4.013815  2.628040  0\n",
       "\n",
       "[600 rows x 3 columns]"
      ]
     },
     "execution_count": 2,
     "metadata": {},
     "output_type": "execute_result"
    }
   ],
   "source": [
    "import numpy as np;\n",
    "import pandas as pd;\n",
    "from matplotlib import pyplot as plt;\n",
    "\n",
    "df2 = pd.read_csv(r\"C:\\Users\\Raider\\Downloads\\lda.csv\");\n",
    "df2"
   ]
  },
  {
   "cell_type": "code",
   "execution_count": 3,
   "id": "428f82c4",
   "metadata": {},
   "outputs": [
    {
     "name": "stdout",
     "output_type": "stream",
     "text": [
      "Predicted values:  [0 1 1 0 1 0 0 0 0 1 0 1 1 0 0 0 0 0 1 1 0 0 0 1 0 1 1 1 0 0 0 0 0 0 1 0 0\n",
      " 1 1 1 0 0 0 1 1 1 0 1 0 0 1 1 0 1 1 0 1 1 0 0 0 1 1 0 0 0 0 0 1 0 1 1 1 0\n",
      " 1 1 0 0 0 0 0 1 1 1 1 1 0 1 0 1 0 0 0 1 0 0 0 0 0 1 1 1 0 1 1 1 1 0 0 0 0\n",
      " 1 1 0 0 1 0 0 1 0 1 1 1 1 1 0 0 0 0 0 1 1 0 0 1 0 1 1 0 0 0 0 0 1 0 1 1 1\n",
      " 0 0 0 1 0 0 1 0 1 1 1 1 1 1 0 1 0 0 0 0 0 0 1 0 1 1 0 1 0 0 0 1]\n",
      "Probability of class 1 being predicted:  [0.15397544 0.85220788 0.883005   0.06733308 0.72017575 0.1356184\n",
      " 0.00957335 0.38689098 0.01229683 0.53447634 0.15350727 0.6181526\n",
      " 0.72291576 0.49421726 0.41056084 0.08157793 0.00882112 0.4402198\n",
      " 0.8950124  0.73697958 0.03627838 0.01650524 0.06185808 0.71973126\n",
      " 0.0681993  0.74470641 0.84478135 0.89233645 0.35614113 0.25941914\n",
      " 0.06093301 0.35106834 0.13192746 0.23126856 0.86876107 0.2794037\n",
      " 0.24595401 0.85012912 0.86029418 0.8912644  0.13163206 0.18535939\n",
      " 0.22851311 0.9174972  0.96518427 0.82829431 0.07203738 0.99548067\n",
      " 0.25570266 0.44446484 0.90970933 0.93661769 0.32347831 0.74356517\n",
      " 0.82628385 0.22395919 0.89844554 0.76537743 0.08872866 0.00610473\n",
      " 0.41893249 0.65104331 0.67664374 0.215128   0.31198581 0.06302568\n",
      " 0.31739408 0.23204519 0.54813358 0.05628166 0.97414452 0.88928298\n",
      " 0.5447415  0.05390372 0.8254015  0.97248724 0.28508756 0.39393248\n",
      " 0.26261929 0.08851293 0.15766338 0.94491205 0.64654484 0.56970447\n",
      " 0.60740387 0.85725934 0.49208417 0.710852   0.34070503 0.79421589\n",
      " 0.01848794 0.219041   0.49545126 0.9428696  0.09367442 0.16881212\n",
      " 0.03042891 0.48202381 0.22248585 0.99063753 0.95301617 0.97937286\n",
      " 0.49851045 0.54262721 0.98615367 0.50181932 0.64322757 0.12525482\n",
      " 0.00694715 0.01170528 0.20994511 0.68815163 0.92154578 0.13564341\n",
      " 0.0329177  0.86165197 0.07174811 0.09194174 0.72815169 0.44420428\n",
      " 0.82126096 0.5053075  0.99801656 0.95708608 0.87111245 0.30935079\n",
      " 0.19132217 0.04437799 0.00224357 0.44942883 0.57989855 0.96109874\n",
      " 0.02472609 0.24946462 0.79103607 0.05079642 0.55510729 0.84380996\n",
      " 0.27262952 0.32224335 0.46127099 0.06822862 0.2963993  0.6702739\n",
      " 0.41923679 0.91391293 0.68042152 0.73171027 0.03258595 0.20871611\n",
      " 0.45734703 0.70178272 0.04663684 0.44547742 0.80384238 0.44179926\n",
      " 0.81193925 0.78605397 0.67819401 0.98152158 0.82720227 0.97501841\n",
      " 0.03661593 0.68905637 0.0149927  0.01585076 0.03531054 0.01091216\n",
      " 0.11809437 0.02921285 0.90907206 0.08512565 0.95366772 0.62250664\n",
      " 0.02063535 0.59963345 0.06786355 0.03636629 0.10051882 0.9644791 ]\n",
      "True positivity rate(sensitivity):  0.8111111111111111\n"
     ]
    }
   ],
   "source": [
    "X = df2.drop(['y'], axis = 1)\n",
    "Y = df2.y\n",
    "\n",
    "from sklearn.model_selection import train_test_split\n",
    "from sklearn.discriminant_analysis import LinearDiscriminantAnalysis\n",
    "from sklearn import metrics\n",
    "from sklearn.metrics import r2_score\n",
    "\n",
    "x_train, x_test, y_train, y_test = train_test_split(X, Y, test_size = 0.3, random_state = 0)\n",
    "model = LinearDiscriminantAnalysis();\n",
    "model.fit(x_train, y_train)\n",
    "y_pred = model.predict(x_test)\n",
    "y_prob = model.predict_proba(x_test)[:,1]\n",
    "print(\"Predicted values: \", y_pred)\n",
    "print(\"Probability of class 1 being predicted: \", y_prob)\n",
    "print(\"True positivity rate(sensitivity): \", model.score(x_test, y_test))"
   ]
  },
  {
   "cell_type": "code",
   "execution_count": 4,
   "id": "bdee758e",
   "metadata": {},
   "outputs": [
    {
     "name": "stdout",
     "output_type": "stream",
     "text": [
      "Predicted values for class 1 in case threshold for class 1 was 0.7 instead of 0.5  [0 1 1 0 1 0 0 0 0 0 0 0 1 0 0 0 0 0 1 1 0 0 0 1 0 1 1 1 0 0 0 0 0 0 1 0 0\n",
      " 1 1 1 0 0 0 1 1 1 0 1 0 0 1 1 0 1 1 0 1 1 0 0 0 0 0 0 0 0 0 0 0 0 1 1 0 0\n",
      " 1 1 0 0 0 0 0 1 0 0 0 1 0 1 0 1 0 0 0 1 0 0 0 0 0 1 1 1 0 0 1 0 0 0 0 0 0\n",
      " 0 1 0 0 1 0 0 1 0 1 0 1 1 1 0 0 0 0 0 0 1 0 0 1 0 0 1 0 0 0 0 0 0 0 1 0 1\n",
      " 0 0 0 1 0 0 1 0 1 1 0 1 1 1 0 0 0 0 0 0 0 0 1 0 1 0 0 0 0 0 0 1]\n",
      "Predicted values for class 1 in case threshold for class 1 was 0.2 instead of 0.5  [0 1 1 0 1 0 0 1 0 1 0 1 1 1 1 0 0 1 1 1 0 0 0 1 0 1 1 1 1 1 0 1 0 1 1 1 1\n",
      " 1 1 1 0 0 1 1 1 1 0 1 1 1 1 1 1 1 1 1 1 1 0 0 1 1 1 1 1 0 1 1 1 0 1 1 1 0\n",
      " 1 1 1 1 1 0 0 1 1 1 1 1 1 1 1 1 0 1 1 1 0 0 0 1 1 1 1 1 1 1 1 1 1 0 0 0 1\n",
      " 1 1 0 0 1 0 0 1 1 1 1 1 1 1 1 0 0 0 1 1 1 0 1 1 0 1 1 1 1 1 0 1 1 1 1 1 1\n",
      " 0 1 1 1 0 1 1 1 1 1 1 1 1 1 0 1 0 0 0 0 0 0 1 0 1 1 0 1 0 0 0 1]\n"
     ]
    }
   ],
   "source": [
    "y_pred_7 = np.where(y_prob>0.7, 1, 0)\n",
    "y_pred_2 = np.where(y_prob>0.2, 1, 0)\n",
    "print(\"Predicted values for class 1 in case threshold for class 1 was 0.7 instead of 0.5 \", y_pred_7)\n",
    "print(\"Predicted values for class 1 in case threshold for class 1 was 0.2 instead of 0.5 \", y_pred_2)"
   ]
  },
  {
   "cell_type": "code",
   "execution_count": 6,
   "id": "ca820b1b",
   "metadata": {},
   "outputs": [
    {
     "name": "stdout",
     "output_type": "stream",
     "text": [
      "Comfusion matrix in case threshold for class1 is 0.5 [[80 15]\n",
      " [19 66]]\n",
      "Comfusion matrix in case threshold for class1 is 0.7 [[86  9]\n",
      " [35 50]]\n",
      "Comfusion matrix in case threshold for class1 is 0.2 [[53 42]\n",
      " [ 2 83]]\n"
     ]
    },
    {
     "data": {
      "text/plain": [
       "Text(0.5, 1.0, 'LDA with threshold 0.2')"
      ]
     },
     "execution_count": 6,
     "metadata": {},
     "output_type": "execute_result"
    },
    {
     "data": {
      "image/png": "[encoded data removed]",
      "text/plain": [
       "<Figure size 432x288 with 2 Axes>"
      ]
     },
     "metadata": {
      "needs_background": "light"
     },
     "output_type": "display_data"
    },
    {
     "data": {
      "image/png": "[encoded data removed]",
      "text/plain": [
       "<Figure size 432x288 with 2 Axes>"
      ]
     },
     "metadata": {
      "needs_background": "light"
     },
     "output_type": "display_data"
    },
    {
     "data": {
      "image/png": "[encoded data removed]",
      "text/plain": [
       "<Figure size 432x288 with 2 Axes>"
      ]
     },
     "metadata": {
      "needs_background": "light"
     },
     "output_type": "display_data"
    }
   ],
   "source": [
    "import seaborn as sn\n",
    "\n",
    "cm_5 = metrics.confusion_matrix(y_test, y_pred)\n",
    "cm_7 = metrics.confusion_matrix(y_test, y_pred_7)\n",
    "cm_2 = metrics.confusion_matrix(y_test, y_pred_2)\n",
    "print(\"Comfusion matrix in case threshold for class1 is 0.5\", cm_5)\n",
    "print(\"Comfusion matrix in case threshold for class1 is 0.7\", cm_7)\n",
    "print(\"Comfusion matrix in case threshold for class1 is 0.2\", cm_2)\n",
    "plt.figure(1)\n",
    "sn.heatmap(cm_5, annot=True)\n",
    "plt.xlabel('Predicted Values')\n",
    "plt.ylabel('Actual Values')\n",
    "plt.title('LDA with threshold 0.5')\n",
    "plt.figure(2)\n",
    "sn.heatmap(cm_7, annot=True)\n",
    "plt.xlabel('Predicted Values')\n",
    "plt.ylabel('Actual Values')\n",
    "plt.title('LDA with threshold 0.7')\n",
    "plt.figure(3)\n",
    "sn.heatmap(cm_2, annot=True)\n",
    "plt.xlabel('Predicted Values')\n",
    "plt.ylabel('Actual Values')\n",
    "plt.title('LDA with threshold 0.2')"
   ]
  }
 ],
 "metadata": {
  "kernelspec": {
   "display_name": "Python 3",
   "language": "python",
   "name": "python3"
  },
  "language_info": {
   "codemirror_mode": {
    "name": "ipython",
    "version": 3
   },
   "file_extension": ".py",
   "mimetype": "text/x-python",
   "name": "python",
   "nbconvert_exporter": "python",
   "pygments_lexer": "ipython3",
   "version": "3.8.8"
  }
 },
 "nbformat": 4,
 "nbformat_minor": 5
}
