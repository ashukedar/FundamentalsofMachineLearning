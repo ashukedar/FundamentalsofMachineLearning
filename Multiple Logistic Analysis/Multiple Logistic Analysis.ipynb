{
 "cells": [
  {
   "cell_type": "code",
   "execution_count": 1,
   "id": "43c26375",
   "metadata": {},
   "outputs": [
    {
     "data": {
      "text/html": [
       "<div>\n",
       "<style scoped>\n",
       "    .dataframe tbody tr th:only-of-type {\n",
       "        vertical-align: middle;\n",
       "    }\n",
       "\n",
       "    .dataframe tbody tr th {\n",
       "        vertical-align: top;\n",
       "    }\n",
       "\n",
       "    .dataframe thead th {\n",
       "        text-align: right;\n",
       "    }\n",
       "</style>\n",
       "<table border=\"1\" class=\"dataframe\">\n",
       "  <thead>\n",
       "    <tr style=\"text-align: right;\">\n",
       "      <th></th>\n",
       "      <th>sepal.length</th>\n",
       "      <th>sepal.width</th>\n",
       "      <th>petal.length</th>\n",
       "      <th>petal.width</th>\n",
       "      <th>variety</th>\n",
       "    </tr>\n",
       "  </thead>\n",
       "  <tbody>\n",
       "    <tr>\n",
       "      <th>0</th>\n",
       "      <td>5.1</td>\n",
       "      <td>3.5</td>\n",
       "      <td>1.4</td>\n",
       "      <td>0.2</td>\n",
       "      <td>Setosa</td>\n",
       "    </tr>\n",
       "    <tr>\n",
       "      <th>1</th>\n",
       "      <td>4.9</td>\n",
       "      <td>3.0</td>\n",
       "      <td>1.4</td>\n",
       "      <td>0.2</td>\n",
       "      <td>Setosa</td>\n",
       "    </tr>\n",
       "    <tr>\n",
       "      <th>2</th>\n",
       "      <td>4.7</td>\n",
       "      <td>3.2</td>\n",
       "      <td>1.3</td>\n",
       "      <td>0.2</td>\n",
       "      <td>Setosa</td>\n",
       "    </tr>\n",
       "    <tr>\n",
       "      <th>3</th>\n",
       "      <td>4.6</td>\n",
       "      <td>3.1</td>\n",
       "      <td>1.5</td>\n",
       "      <td>0.2</td>\n",
       "      <td>Setosa</td>\n",
       "    </tr>\n",
       "    <tr>\n",
       "      <th>4</th>\n",
       "      <td>5.0</td>\n",
       "      <td>3.6</td>\n",
       "      <td>1.4</td>\n",
       "      <td>0.2</td>\n",
       "      <td>Setosa</td>\n",
       "    </tr>\n",
       "    <tr>\n",
       "      <th>...</th>\n",
       "      <td>...</td>\n",
       "      <td>...</td>\n",
       "      <td>...</td>\n",
       "      <td>...</td>\n",
       "      <td>...</td>\n",
       "    </tr>\n",
       "    <tr>\n",
       "      <th>145</th>\n",
       "      <td>6.7</td>\n",
       "      <td>3.0</td>\n",
       "      <td>5.2</td>\n",
       "      <td>2.3</td>\n",
       "      <td>Virginica</td>\n",
       "    </tr>\n",
       "    <tr>\n",
       "      <th>146</th>\n",
       "      <td>6.3</td>\n",
       "      <td>2.5</td>\n",
       "      <td>5.0</td>\n",
       "      <td>1.9</td>\n",
       "      <td>Virginica</td>\n",
       "    </tr>\n",
       "    <tr>\n",
       "      <th>147</th>\n",
       "      <td>6.5</td>\n",
       "      <td>3.0</td>\n",
       "      <td>5.2</td>\n",
       "      <td>2.0</td>\n",
       "      <td>Virginica</td>\n",
       "    </tr>\n",
       "    <tr>\n",
       "      <th>148</th>\n",
       "      <td>6.2</td>\n",
       "      <td>3.4</td>\n",
       "      <td>5.4</td>\n",
       "      <td>2.3</td>\n",
       "      <td>Virginica</td>\n",
       "    </tr>\n",
       "    <tr>\n",
       "      <th>149</th>\n",
       "      <td>5.9</td>\n",
       "      <td>3.0</td>\n",
       "      <td>5.1</td>\n",
       "      <td>1.8</td>\n",
       "      <td>Virginica</td>\n",
       "    </tr>\n",
       "  </tbody>\n",
       "</table>\n",
       "<p>150 rows × 5 columns</p>\n",
       "</div>"
      ],
      "text/plain": [
       "     sepal.length  sepal.width  petal.length  petal.width    variety\n",
       "0             5.1          3.5           1.4          0.2     Setosa\n",
       "1             4.9          3.0           1.4          0.2     Setosa\n",
       "2             4.7          3.2           1.3          0.2     Setosa\n",
       "3             4.6          3.1           1.5          0.2     Setosa\n",
       "4             5.0          3.6           1.4          0.2     Setosa\n",
       "..            ...          ...           ...          ...        ...\n",
       "145           6.7          3.0           5.2          2.3  Virginica\n",
       "146           6.3          2.5           5.0          1.9  Virginica\n",
       "147           6.5          3.0           5.2          2.0  Virginica\n",
       "148           6.2          3.4           5.4          2.3  Virginica\n",
       "149           5.9          3.0           5.1          1.8  Virginica\n",
       "\n",
       "[150 rows x 5 columns]"
      ]
     },
     "execution_count": 1,
     "metadata": {},
     "output_type": "execute_result"
    }
   ],
   "source": [
    "import numpy as np;\n",
    "import pandas as pd;\n",
    "from matplotlib import pyplot as plt;\n",
    "\n",
    "df = pd.read_csv(r\"C:\\Users\\Raider\\Downloads\\iris.csv\");\n",
    "df"
   ]
  },
  {
   "cell_type": "code",
   "execution_count": 2,
   "id": "5b5848dd",
   "metadata": {},
   "outputs": [
    {
     "data": {
      "text/plain": [
       "array(['Setosa', 'Versicolor', 'Virginica'], dtype=object)"
      ]
     },
     "execution_count": 2,
     "metadata": {},
     "output_type": "execute_result"
    }
   ],
   "source": [
    "df.variety.unique()"
   ]
  },
  {
   "cell_type": "code",
   "execution_count": 3,
   "id": "71bf7bf1",
   "metadata": {},
   "outputs": [
    {
     "name": "stdout",
     "output_type": "stream",
     "text": [
      "     sepal.length  sepal.width  petal.length  petal.width  variety\n",
      "0             5.1          3.5           1.4          0.2        1\n",
      "1             4.9          3.0           1.4          0.2        1\n",
      "2             4.7          3.2           1.3          0.2        1\n",
      "3             4.6          3.1           1.5          0.2        1\n",
      "4             5.0          3.6           1.4          0.2        1\n",
      "..            ...          ...           ...          ...      ...\n",
      "145           6.7          3.0           5.2          2.3        3\n",
      "146           6.3          2.5           5.0          1.9        3\n",
      "147           6.5          3.0           5.2          2.0        3\n",
      "148           6.2          3.4           5.4          2.3        3\n",
      "149           5.9          3.0           5.1          1.8        3\n",
      "\n",
      "[150 rows x 5 columns]\n",
      "[1 2 3]\n"
     ]
    }
   ],
   "source": [
    "df.variety = df.variety.replace({\"Setosa\":1,\"Versicolor\":2,\"Virginica\":3})\n",
    "print(df)\n",
    "print(df.variety.unique())"
   ]
  },
  {
   "cell_type": "code",
   "execution_count": 4,
   "id": "9dd24043",
   "metadata": {},
   "outputs": [
    {
     "name": "stdout",
     "output_type": "stream",
     "text": [
      "[3 2 1 3 1 3 1 2 2 2 3 2 2 2 2 1 2 2 1 1 3 2 1 1 3 1 1 2 2 1 3 2 1 3 3 2 1\n",
      " 3 2 2 3 1 3 1 1]\n"
     ]
    }
   ],
   "source": [
    "X = df.drop(['variety'], axis = 1)\n",
    "Y = df.variety\n",
    "\n",
    "from sklearn.model_selection import train_test_split\n",
    "from sklearn.linear_model import LogisticRegression\n",
    "from sklearn import metrics\n",
    "from sklearn.metrics import r2_score\n",
    "\n",
    "x_train, x_test, y_train, y_test = train_test_split(X, Y, test_size = 0.3, random_state = 0)\n",
    "model = LogisticRegression(multi_class=\"multinomial\", solver=\"newton-cg\");\n",
    "model.fit(x_train, y_train)\n",
    "y_pred = model.predict(x_test)\n",
    "\n",
    "print(y_pred)"
   ]
  },
  {
   "cell_type": "code",
   "execution_count": 5,
   "id": "e57e8ad8",
   "metadata": {},
   "outputs": [
    {
     "name": "stdout",
     "output_type": "stream",
     "text": [
      "Intercept:  [  9.00141172   1.54232621 -10.54373793]\n",
      "Coefficient:  [[-0.39797204  0.83359486 -2.2895243  -0.97845001]\n",
      " [ 0.544525   -0.29022905 -0.2326071  -0.65817475]\n",
      " [-0.14655296 -0.54336581  2.5221314   1.63662476]]\n",
      "Predicted Values:  [3 2 1 3 1 3 1 2 2 2 3 2 2 2 2 1 2 2 1 1 3 2 1 1 3 1 1 2 2 1 3 2 1 3 3 2 1\n",
      " 3 2 2 3 1 3 1 1]\n",
      "Confusion matrix:  [[16  0  0]\n",
      " [ 0 17  1]\n",
      " [ 0  0 11]]\n",
      "Mean Absolute Error:  0.022222222222222223\n",
      "Mean Squared Error:  0.022222222222222223\n",
      "Root Mean Squared Error:  0.14907119849998599\n",
      "R2 Score 0.9621848739495799\n",
      "Predicted Values Probability:  [[1.31684876e-04 5.98765637e-02 9.39991751e-01]\n",
      " [1.33618472e-02 9.57026964e-01 2.96111893e-02]\n",
      " [9.82904049e-01 1.70958951e-02 5.56885986e-08]\n",
      " [1.60239850e-06 2.60723043e-02 9.73926093e-01]\n",
      " [9.68267388e-01 3.17323761e-02 2.35520222e-07]\n",
      " [2.47511180e-06 6.75814563e-03 9.93239379e-01]\n",
      " [9.80351378e-01 1.96485189e-02 1.03097983e-07]\n",
      " [3.00586368e-03 7.50154484e-01 2.46839653e-01]\n",
      " [1.62182124e-03 7.41240425e-01 2.57137754e-01]\n",
      " [2.11308342e-02 9.32808003e-01 4.60611625e-02]\n",
      " [1.02476761e-04 1.57150930e-01 8.42746594e-01]\n",
      " [7.25918273e-03 8.08731145e-01 1.84009673e-01]\n",
      " [4.34538976e-03 7.83989833e-01 2.11664777e-01]\n",
      " [3.22915176e-03 7.61195146e-01 2.35575702e-01]\n",
      " [4.08972923e-03 7.03052818e-01 2.92857452e-01]\n",
      " [9.81565050e-01 1.84348660e-02 8.41187673e-08]\n",
      " [7.00753250e-03 7.50195083e-01 2.42797385e-01]\n",
      " [1.20107981e-02 8.31538901e-01 1.56450301e-01]\n",
      " [9.65470310e-01 3.45293789e-02 3.10985477e-07]\n",
      " [9.81116595e-01 1.88833199e-02 8.54345781e-08]\n",
      " [8.83714879e-04 1.94030415e-01 8.05085870e-01]\n",
      " [1.06464380e-02 6.98679283e-01 2.90674279e-01]\n",
      " [9.41798360e-01 5.82001469e-02 1.49287364e-06]\n",
      " [9.74104241e-01 2.58955088e-02 2.50703294e-07]\n",
      " [1.46153354e-03 4.31329988e-01 5.67208478e-01]\n",
      " [9.93621292e-01 6.37869260e-03 1.49671384e-08]\n",
      " [9.47179983e-01 5.28184421e-02 1.57468810e-06]\n",
      " [1.11605843e-02 8.96767710e-01 9.20717053e-02]\n",
      " [1.43634831e-01 8.48933511e-01 7.43165768e-03]\n",
      " [9.58845968e-01 4.11533951e-02 6.36636895e-07]\n",
      " [1.12217472e-04 1.20453631e-01 8.79434152e-01]\n",
      " [1.22978871e-02 6.68405147e-01 3.19296966e-01]\n",
      " [9.65843453e-01 3.41563321e-02 2.15266762e-07]\n",
      " [1.37094081e-03 3.61246893e-01 6.37382166e-01]\n",
      " [1.76519439e-05 3.70630710e-02 9.62919277e-01]\n",
      " [4.90697588e-02 8.72340548e-01 7.85896931e-02]\n",
      " [9.40728860e-01 5.92706056e-02 5.34852580e-07]\n",
      " [6.49449407e-04 3.08789535e-01 6.90561016e-01]\n",
      " [1.82058778e-02 8.55242354e-01 1.26551768e-01]\n",
      " [2.30445700e-02 9.29720865e-01 4.72345645e-02]\n",
      " [4.21541790e-05 8.12575533e-02 9.18700293e-01]\n",
      " [9.79915796e-01 2.00840926e-02 1.11206676e-07]\n",
      " [1.76003228e-04 1.56014316e-01 8.43809680e-01]\n",
      " [9.60710941e-01 3.92881214e-02 9.37729460e-07]\n",
      " [9.67019875e-01 3.29799532e-02 1.72084731e-07]]\n",
      "Accuracy for training set:  0.9809523809523809\n",
      "Accuracy for test set:  0.9777777777777777\n"
     ]
    }
   ],
   "source": [
    "print('Intercept: ', model.intercept_)\n",
    "print('Coefficient: ', model.coef_)\n",
    "print('Predicted Values: ', y_pred)\n",
    "print('Confusion matrix: ', metrics.confusion_matrix(y_test, y_pred))\n",
    "print('Mean Absolute Error: ', metrics.mean_absolute_error(y_test, y_pred))\n",
    "print('Mean Squared Error: ', metrics.mean_squared_error(y_test, y_pred))\n",
    "print('Root Mean Squared Error: ', np.sqrt(metrics.mean_squared_error(y_test, y_pred)))\n",
    "print('R2 Score', r2_score(y_test, y_pred))\n",
    "print('Predicted Values Probability: ', model.predict_proba(x_test))\n",
    "print(\"Accuracy for training set: \", model.score(x_train, y_train))\n",
    "print(\"Accuracy for test set: \", model.score(x_test, y_test))"
   ]
  },
  {
   "cell_type": "code",
   "execution_count": 6,
   "id": "7923c486",
   "metadata": {},
   "outputs": [
    {
     "data": {
      "text/plain": [
       "Text(33.0, 0.5, 'Actual Values')"
      ]
     },
     "execution_count": 6,
     "metadata": {},
     "output_type": "execute_result"
    },
    {
     "data": {
      "image/png": "[encoded data removed]",
      "text/plain": [
       "<Figure size 432x288 with 2 Axes>"
      ]
     },
     "metadata": {
      "needs_background": "light"
     },
     "output_type": "display_data"
    }
   ],
   "source": [
    "import seaborn as sn\n",
    "\n",
    "cm = metrics.confusion_matrix(y_test, y_pred)\n",
    "sn.heatmap(cm, annot=True)\n",
    "plt.xlabel('Predicted Values')\n",
    "plt.ylabel('Actual Values')"
   ]
  }
 ],
 "metadata": {
  "kernelspec": {
   "display_name": "Python 3",
   "language": "python",
   "name": "python3"
  },
  "language_info": {
   "codemirror_mode": {
    "name": "ipython",
    "version": 3
   },
   "file_extension": ".py",
   "mimetype": "text/x-python",
   "name": "python",
   "nbconvert_exporter": "python",
   "pygments_lexer": "ipython3",
   "version": "3.8.8"
  }
 },
 "nbformat": 4,
 "nbformat_minor": 5
}
