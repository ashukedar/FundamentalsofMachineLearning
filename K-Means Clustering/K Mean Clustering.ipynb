{
 "cells": [
  {
   "cell_type": "code",
   "execution_count": 2,
   "id": "4dbeaa17",
   "metadata": {},
   "outputs": [],
   "source": [
    "import numpy as np\n",
    "import pandas as pd\n",
    "from matplotlib import pyplot as plt\n",
    "\n",
    "import cv2\n",
    "\n",
    "img = cv2.imread(r'D:\\ism study material\\Fundamental of machine learning\\LAB\\image\\monalisa.jpg')"
   ]
  },
  {
   "cell_type": "code",
   "execution_count": 3,
   "id": "f1d226dc",
   "metadata": {},
   "outputs": [
    {
     "name": "stdout",
     "output_type": "stream",
     "text": [
      "(256, 256, 3)\n"
     ]
    }
   ],
   "source": [
    "print(img.shape)"
   ]
  },
  {
   "cell_type": "code",
   "execution_count": 4,
   "id": "f6e7fb58",
   "metadata": {},
   "outputs": [
    {
     "name": "stdout",
     "output_type": "stream",
     "text": [
      "width: 256\n",
      "height: 256\n",
      "channel: 3\n"
     ]
    }
   ],
   "source": [
    "h, w, c = img.shape\n",
    "print('width:',w)\n",
    "print('height:',h)\n",
    "print('channel:',c)"
   ]
  },
  {
   "cell_type": "code",
   "execution_count": 5,
   "id": "f205e5c3",
   "metadata": {},
   "outputs": [],
   "source": [
    "img2=img.reshape((h*w,3))"
   ]
  },
  {
   "cell_type": "code",
   "execution_count": 7,
   "id": "6d438a6e",
   "metadata": {},
   "outputs": [],
   "source": [
    "from sklearn.cluster import KMeans\n",
    "from sklearn.metrics import silhouette_samples, silhouette_score"
   ]
  },
  {
   "cell_type": "code",
   "execution_count": 9,
   "id": "abe188e9",
   "metadata": {},
   "outputs": [
    {
     "data": {
      "text/plain": [
       "array([0, 0, 0, ..., 3, 1, 3])"
      ]
     },
     "execution_count": 9,
     "metadata": {},
     "output_type": "execute_result"
    }
   ],
   "source": [
    "cl = KMeans(n_clusters=7, random_state=10)\n",
    "clbs =cl.fit_predict(img2)\n",
    "clbs"
   ]
  },
  {
   "cell_type": "code",
   "execution_count": 18,
   "id": "6d06551c",
   "metadata": {},
   "outputs": [
    {
     "name": "stdout",
     "output_type": "stream",
     "text": [
      "For n_clusters= 2 The average silhouette_score is: 0.5854187597915521\n",
      "For n_clusters= 3 The average silhouette_score is: 0.4995495519454517\n",
      "For n_clusters= 4 The average silhouette_score is: 0.4932440822528599\n",
      "For n_clusters= 5 The average silhouette_score is: 0.44244384066250725\n",
      "For n_clusters= 6 The average silhouette_score is: 0.4383035260003415\n"
     ]
    }
   ],
   "source": [
    "range_n_clusters = [2,3,4,5,6,]\n",
    "#s1=[0,0,0,0,0]\n",
    "\n",
    "for n_clusters in range_n_clusters:\n",
    "    clusterer = KMeans(n_clusters=n_clusters, random_state=10)\n",
    "    cluster_labels = clusterer.fit_predict(img2)\n",
    "    # The Silhouette scores gives the avg. value for all the samples.\n",
    "    #This gives a perspective into the density and separation of the formed clusters\n",
    "    silhouette_avg=silhouette_score(img2,cluster_labels)\n",
    "     #sl[n_clusters]=silhouette_avg\n",
    "    print(\"For n_clusters=\",n_clusters,\"The average silhouette_score is:\",silhouette_avg)"
   ]
  }
 ],
 "metadata": {
  "kernelspec": {
   "display_name": "Python 3",
   "language": "python",
   "name": "python3"
  },
  "language_info": {
   "codemirror_mode": {
    "name": "ipython",
    "version": 3
   },
   "file_extension": ".py",
   "mimetype": "text/x-python",
   "name": "python",
   "nbconvert_exporter": "python",
   "pygments_lexer": "ipython3",
   "version": "3.8.8"
  }
 },
 "nbformat": 4,
 "nbformat_minor": 5
}
