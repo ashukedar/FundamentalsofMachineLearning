{
 "cells": [
  {
   "cell_type": "code",
   "execution_count": 7,
   "id": "42f307d8",
   "metadata": {},
   "outputs": [
    {
     "name": "stdout",
     "output_type": "stream",
     "text": [
      "Requirement already satisfied: opencv-python in d:\\data science and other software\\anaconda\\lib\\site-packages (4.5.4.58)\n",
      "Requirement already satisfied: numpy>=1.17.3 in d:\\data science and other software\\anaconda\\lib\\site-packages (from opencv-python) (1.20.1)\n"
     ]
    }
   ],
   "source": [
    "import numpy as np\n",
    "import pandas as pd\n",
    "from matplotlib import pyplot as plt\n",
    "!pip install opencv-python\n",
    "import cv2\n",
    "\n",
    "img = cv2.imread(r'D:\\ism study material\\Fundamental of machine learning\\LAB\\image\\BSE_Image.jpg')\n"
   ]
  },
  {
   "cell_type": "code",
   "execution_count": 8,
   "id": "c3e24b8a",
   "metadata": {},
   "outputs": [
    {
     "name": "stdout",
     "output_type": "stream",
     "text": [
      "(751, 1000, 3)\n"
     ]
    }
   ],
   "source": [
    "print(img.shape)"
   ]
  },
  {
   "cell_type": "code",
   "execution_count": 9,
   "id": "782ec860",
   "metadata": {},
   "outputs": [
    {
     "name": "stdout",
     "output_type": "stream",
     "text": [
      "width: 1000\n",
      "height: 751\n",
      "channel: 3\n"
     ]
    }
   ],
   "source": [
    "h, w, c = img.shape\n",
    "print('width:',w)\n",
    "print('height:',h)\n",
    "print('channel:',c)\n"
   ]
  },
  {
   "cell_type": "code",
   "execution_count": 10,
   "id": "6ec8d404",
   "metadata": {},
   "outputs": [],
   "source": [
    "img2=img.reshape((h*w,3))"
   ]
  },
  {
   "cell_type": "code",
   "execution_count": 11,
   "id": "30c1b96f",
   "metadata": {},
   "outputs": [
    {
     "data": {
      "text/plain": [
       "array([[255, 255, 255],\n",
       "       [251, 251, 251],\n",
       "       [253, 253, 253],\n",
       "       ...,\n",
       "       [255, 255, 255],\n",
       "       [251, 251, 251],\n",
       "       [253, 253, 253]], dtype=uint8)"
      ]
     },
     "execution_count": 11,
     "metadata": {},
     "output_type": "execute_result"
    }
   ],
   "source": [
    "img2"
   ]
  },
  {
   "cell_type": "code",
   "execution_count": 12,
   "id": "b9c2b504",
   "metadata": {},
   "outputs": [],
   "source": [
    "from sklearn.mixture import GaussianMixture as GMM\n",
    "#covariance choices, full, tied, diag, spherical\n",
    "gmm_model= GMM(n_components=5,covariance_type='tied').fit(img2) #tied works better than full\n",
    "gmm_labels=gmm_model.predict(img2)"
   ]
  },
  {
   "cell_type": "code",
   "execution_count": 13,
   "id": "1c38e954",
   "metadata": {},
   "outputs": [
    {
     "data": {
      "text/plain": [
       "array([2, 2, 2, ..., 2, 2, 2], dtype=int64)"
      ]
     },
     "execution_count": 13,
     "metadata": {},
     "output_type": "execute_result"
    }
   ],
   "source": [
    "gmm_labels"
   ]
  },
  {
   "cell_type": "code",
   "execution_count": 14,
   "id": "51cb5ab6",
   "metadata": {},
   "outputs": [
    {
     "data": {
      "text/plain": [
       "array([[4.44445171e-031, 1.19118983e-106, 1.00000000e+000,\n",
       "        9.56983124e-065, 2.67806979e-148],\n",
       "       [1.11018378e-028, 3.70160914e-102, 1.00000000e+000,\n",
       "        2.78843556e-061, 5.59984332e-143],\n",
       "       [7.02435633e-030, 2.09983789e-104, 1.00000000e+000,\n",
       "        5.16573884e-063, 1.22461305e-145],\n",
       "       ...,\n",
       "       [4.44445171e-031, 1.19118983e-106, 1.00000000e+000,\n",
       "        9.56983124e-065, 2.67806979e-148],\n",
       "       [1.11018378e-028, 3.70160914e-102, 1.00000000e+000,\n",
       "        2.78843556e-061, 5.59984332e-143],\n",
       "       [7.02435633e-030, 2.09983789e-104, 1.00000000e+000,\n",
       "        5.16573884e-063, 1.22461305e-145]])"
      ]
     },
     "execution_count": 14,
     "metadata": {},
     "output_type": "execute_result"
    }
   ],
   "source": [
    "gmm_model.predict_proba(img2)\n"
   ]
  },
  {
   "cell_type": "code",
   "execution_count": 15,
   "id": "8cdb8a72",
   "metadata": {},
   "outputs": [],
   "source": [
    "original_shape = img.shape\n",
    "segment= gmm_labels.reshape(original_shape[0], original_shape[1])"
   ]
  },
  {
   "cell_type": "code",
   "execution_count": 16,
   "id": "2ff1b934",
   "metadata": {},
   "outputs": [
    {
     "data": {
      "text/plain": [
       "True"
      ]
     },
     "execution_count": 16,
     "metadata": {},
     "output_type": "execute_result"
    }
   ],
   "source": [
    "cv2.imwrite(r'D:\\ism study material\\Fundamental of machine learning\\LAB\\image\\OutputSegment.jpg',segment)"
   ]
  },
  {
   "cell_type": "code",
   "execution_count": null,
   "id": "3ccc0483",
   "metadata": {},
   "outputs": [],
   "source": []
  }
 ],
 "metadata": {
  "kernelspec": {
   "display_name": "Python 3",
   "language": "python",
   "name": "python3"
  },
  "language_info": {
   "codemirror_mode": {
    "name": "ipython",
    "version": 3
   },
   "file_extension": ".py",
   "mimetype": "text/x-python",
   "name": "python",
   "nbconvert_exporter": "python",
   "pygments_lexer": "ipython3",
   "version": "3.8.8"
  }
 },
 "nbformat": 4,
 "nbformat_minor": 5
}
